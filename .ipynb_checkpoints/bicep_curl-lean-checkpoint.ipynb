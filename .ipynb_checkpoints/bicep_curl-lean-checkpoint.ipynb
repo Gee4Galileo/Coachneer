{
 "cells": [
  {
   "cell_type": "markdown",
   "id": "1fe3dfef-5b12-470f-aa9c-81a170981710",
   "metadata": {
    "tags": []
   },
   "source": [
    "# 0. Install and Import Dependencies"
   ]
  },
  {
   "cell_type": "code",
   "execution_count": null,
   "id": "544199e7-8f60-4889-91c4-9dd1011d7958",
   "metadata": {},
   "outputs": [],
   "source": [
    "# !pip install mediapipe opencv-python pandas scikit-learn"
   ]
  },
  {
   "cell_type": "code",
   "execution_count": null,
   "id": "a74a6129-ab57-418a-af68-12bee9ffc05c",
   "metadata": {},
   "outputs": [],
   "source": [
    "import mediapipe as mp\n",
    "import cv2\n",
    "import numpy as np"
   ]
  },
  {
   "cell_type": "code",
   "execution_count": null,
   "id": "6d94e7c5-2353-4aa8-8550-761a70043452",
   "metadata": {},
   "outputs": [],
   "source": [
    "# 2. Capture Landmarks & Export to CSV\n",
    "import csv\n",
    "import os\n",
    "import numpy as np\n",
    "from matplotlib import pyplot as plt"
   ]
  },
  {
   "cell_type": "code",
   "execution_count": null,
   "id": "13553355-71e4-49f8-a579-f3ece0004c72",
   "metadata": {},
   "outputs": [],
   "source": [
    "# 3.1 Read in Collected Data and Process\n",
    "import pandas as pd\n",
    "from sklearn.model_selection import train_test_split"
   ]
  },
  {
   "cell_type": "code",
   "execution_count": null,
   "id": "c328a496-01f0-4bcd-8bbe-cd58452372fa",
   "metadata": {},
   "outputs": [],
   "source": [
    "# 3.2 Train Machine Learning Classification Model\n",
    "from sklearn.pipeline import make_pipeline\n",
    "from sklearn.preprocessing import StandardScaler\n",
    "\n",
    "from sklearn.linear_model import LogisticRegression, RidgeClassifier\n",
    "from sklearn.ensemble import RandomForestClassifier, GradientBoostingClassifier"
   ]
  },
  {
   "cell_type": "code",
   "execution_count": null,
   "id": "c2e378f4-5fc0-4214-875b-b9879128fd7e",
   "metadata": {},
   "outputs": [],
   "source": [
    "# 3.3 Evaluate and Serialize Mode\n",
    "from sklearn.metrics import accuracy_score, precision_score, recall_score\n",
    "import pickle"
   ]
  },
  {
   "cell_type": "code",
   "execution_count": null,
   "id": "587e6f3e-feee-4d46-8a1d-03919af558c7",
   "metadata": {},
   "outputs": [],
   "source": [
    "mp_drawing = mp.solutions.drawing_utils # helpers for drawing\n",
    "mp_pose = mp.solutions.pose"
   ]
  },
  {
   "cell_type": "code",
   "execution_count": null,
   "id": "9a36b508-b784-47f4-941d-f2c41b12529a",
   "metadata": {},
   "outputs": [],
   "source": [
    "VIDEO_PATH = 'bicep-curl.mp4'\n",
    "EXPORT_PATH = 'bicep-curl.csv'\n",
    "MODEL_PATH = 'bicep-curl.pkl'"
   ]
  },
  {
   "cell_type": "markdown",
   "id": "e2c24526-f2e7-40af-807b-1efc5171aeca",
   "metadata": {
    "jp-MarkdownHeadingCollapsed": true,
    "tags": []
   },
   "source": [
    "# 1. Save Video"
   ]
  },
  {
   "cell_type": "markdown",
   "id": "1651bb27-a02f-4b05-80b1-e7ac756246fb",
   "metadata": {},
   "source": [
    "VIDEO_PATH = `bicep-curl.mp4`\n",
    "\n",
    "\n",
    "EXPORT_PATH = `bicep-curl.csv`\n",
    "\n",
    "\n",
    "MODEL_PATH = `bicep-curl.pkl`"
   ]
  },
  {
   "cell_type": "code",
   "execution_count": null,
   "id": "249798e2-0c62-4eb5-863b-39acd8839220",
   "metadata": {},
   "outputs": [],
   "source": [
    "cap = cv2.VideoCapture(0)\n",
    "\n",
    "width = int(cap.get(cv2.CAP_PROP_FRAME_WIDTH))\n",
    "height = int(cap.get(cv2.CAP_PROP_FRAME_HEIGHT))\n",
    "fps = cap.get(cv2.CAP_PROP_FPS)\n",
    "videoWriter = cv2.VideoWriter('bicep-curl.avi', cv2.VideoWriter_fourcc('P','I','M','1'), fps, (width, height))\n",
    "\n",
    "while cap.isOpened():\n",
    "    ret, frame = cap.read()\n",
    "\n",
    "    try:\n",
    "        cv2.imshow('Bicep-Curl', frame)\n",
    "        videoWriter.write(frame)\n",
    "    except Exception as e:\n",
    "        break\n",
    "\n",
    "    if cv2.waitKey(10) & 0xFF == ord('q'):\n",
    "        break\n",
    "\n",
    "cap.release()\n",
    "videoWriter.release()\n",
    "cv2.destroyAllWindows()"
   ]
  },
  {
   "cell_type": "markdown",
   "id": "d0316fc6-a902-4344-8fea-f040a0405217",
   "metadata": {
    "tags": []
   },
   "source": [
    "# 2. Capture Landmarks & Export to CSV"
   ]
  },
  {
   "cell_type": "code",
   "execution_count": null,
   "id": "91ec585a-ccd8-4b7a-a083-e07debae7dfc",
   "metadata": {},
   "outputs": [],
   "source": [
    "landmarks = ['class']\n",
    "for val in range(1, 33 +1):\n",
    "    landmarks += [f'x{val}', f'y{val}', f'z{val}', f'v{val}']"
   ]
  },
  {
   "cell_type": "code",
   "execution_count": null,
   "id": "534f4ab1-dc0d-426d-86fe-2e5b11ef773f",
   "metadata": {
    "tags": []
   },
   "outputs": [],
   "source": [
    "landmarks[1:]"
   ]
  },
  {
   "cell_type": "code",
   "execution_count": null,
   "id": "f9d631bd-1314-4c6c-ad41-35b2778697b1",
   "metadata": {},
   "outputs": [],
   "source": [
    "with open('coords.csv', mode= 'w', newline= '') as f:\n",
    "    csv_writer = csv.writer(f, delimiter= ',', quotechar= '\"', quoting= csv.QUOTE_MINIMAL)\n",
    "    csv_writer.writerow(landmarks)"
   ]
  },
  {
   "cell_type": "code",
   "execution_count": null,
   "id": "c3bc0d1f-a552-422e-9c34-b80c68a57f3b",
   "metadata": {},
   "outputs": [],
   "source": [
    "def export_landmark(results, action):\n",
    "    try:\n",
    "        keypoints = np.array([[res.x, res.y, res.z, res.visibility] for res in results.pose_landmarks.landmark]).flatten()\n",
    "        keypoints.insert(0, action)\n",
    "        \n",
    "        with open('coords.csv', mode= 'w', newline= '') as f:\n",
    "            csv_writer = csv.writer(f, delimiter= ',', quotechar= '\"', quoting= csv.QUOTE_MINIMAL)\n",
    "            csv_writer.writerow(keypoints)\n",
    "    except Exception as e:\n",
    "        pass"
   ]
  },
  {
   "cell_type": "code",
   "execution_count": null,
   "id": "fe8d19d3-7e15-4eb1-83fe-befe2eb9e1ec",
   "metadata": {},
   "outputs": [],
   "source": [
    "cap = cv2.VideoCapture(VIDEO_PATH)\n",
    "\n",
    "# Initiate holistic model\n",
    "with mp_pose.Pose(min_detection_confidence= 0.5, min_tracking_confidence= 0.5) as pose:\n",
    "    \n",
    "    while cap.isOpened():\n",
    "        ret, image = cap.read()\n",
    "        \n",
    "        # Recolor Feed\n",
    "        image = cv2.cvtColor(image, cv2.COLOR_BGR2RGB)\n",
    "        image.flags.writeable = False\n",
    "        \n",
    "        # Make Detections\n",
    "        results = pose.process(image)\n",
    "        \n",
    "        # Recolor image back to BGR for rendering\n",
    "        image.flags.writeable = True\n",
    "        image = cv2.cvtColor(image, cv2.COLOR_RGB2BGR)\n",
    "        \n",
    "        mp_drawing.draw_landmarks(image, results.pose_landmarks, mp_pose.POSE_CONNECTIONS,\n",
    "                                  mp_drawing.DrawingSpec(color= (245, 117, 66),\n",
    "                                                         thickness= 2,\n",
    "                                                         circle_radius= 4),\n",
    "                                  mp_drawing.DrawingSpec(color= (245, 66, 230),\n",
    "                                                         thickness= 2,\n",
    "                                                         circle_radius= 2)\n",
    "                                 )\n",
    "                \n",
    "        k = cv2.waitKey(1)\n",
    "        if k == ord('b'):\n",
    "            export_landmark(results, 'backwards')\n",
    "        if k == ord('n'):\n",
    "            export_landmark(results, 'neutral')\n",
    "\n",
    "\n",
    "        cv2.imshow('Bicep Lean Training', image)\n",
    "\n",
    "        if cv2.waitKey(1) & 0xFF == ord('q'):\n",
    "            break\n",
    "            \n",
    "cap.release()\n",
    "cv2.destroyAllWindows()"
   ]
  },
  {
   "cell_type": "code",
   "execution_count": null,
   "id": "21fb7d7f-16a4-47cf-9f79-b522a97f75c9",
   "metadata": {},
   "outputs": [],
   "source": [
    "cap.release()\n",
    "cv2.destroyAllWindows()"
   ]
  },
  {
   "cell_type": "markdown",
   "id": "c503bd53-bbf1-478a-adc7-8a9ed9a94435",
   "metadata": {
    "jp-MarkdownHeadingCollapsed": true,
    "tags": []
   },
   "source": [
    "# 3. Train Custom Model Using Scikit Learn"
   ]
  },
  {
   "cell_type": "markdown",
   "id": "67102328-92c3-4489-8fc1-a5da0bea8c0e",
   "metadata": {},
   "source": [
    "## 3.1 Read in Collected Data and Process"
   ]
  },
  {
   "cell_type": "code",
   "execution_count": null,
   "id": "87a8f892-ce8c-492f-bbbe-9f7899efecf7",
   "metadata": {},
   "outputs": [],
   "source": [
    "df = pd.read_csv('coords.csv')"
   ]
  },
  {
   "cell_type": "code",
   "execution_count": null,
   "id": "6534ed5f-2fdd-471d-bdb9-4f8077e8a294",
   "metadata": {},
   "outputs": [],
   "source": [
    "df.head()"
   ]
  },
  {
   "cell_type": "code",
   "execution_count": null,
   "id": "57f3ef84-935e-41a2-849a-784efaf70502",
   "metadata": {},
   "outputs": [],
   "source": [
    "df.tail()"
   ]
  },
  {
   "cell_type": "code",
   "execution_count": null,
   "id": "d0865866-67bd-4878-a07a-d8f7a3390949",
   "metadata": {},
   "outputs": [],
   "source": [
    "df[df.class == 'up']"
   ]
  },
  {
   "cell_type": "code",
   "execution_count": null,
   "id": "6e0a382a-0a9b-4e1e-9354-152bb9e1788f",
   "metadata": {},
   "outputs": [],
   "source": [
    "X = df.drop('class', axis= 1) \n",
    "y = df.class"
   ]
  },
  {
   "cell_type": "code",
   "execution_count": null,
   "id": "52a577ca-411f-40b1-a0e2-f2c38d7dcc88",
   "metadata": {},
   "outputs": [],
   "source": [
    "X_train, X_test, y_train, y_test = train_test_split(X, y, test_size= 0.3, random_state= 7)"
   ]
  },
  {
   "cell_type": "code",
   "execution_count": null,
   "id": "960fdd13-36f4-412a-bbe7-99eaa8af4f5b",
   "metadata": {},
   "outputs": [],
   "source": [
    "y_test"
   ]
  },
  {
   "cell_type": "markdown",
   "id": "11145241-f963-4ef2-ae2a-5e50f0d7014f",
   "metadata": {},
   "source": [
    "## 3.2 Train Machine Learning Classification Model"
   ]
  },
  {
   "cell_type": "code",
   "execution_count": null,
   "id": "7ff24032-5798-4803-8661-a4aae8471373",
   "metadata": {},
   "outputs": [],
   "source": [
    "pipelines = {\n",
    "    'lr': make_pipeline(StandardScaler(), LogisticRegression()),\n",
    "    'rc': make_pipeline(StandardScaler(), RidgeClassifier()),\n",
    "    'rf': make_pipeline(StandardScaler(), RandomForestClassifier()),\n",
    "    'gb': make_pipeline(StandardScaler(), GradientBoostingClassifier()),\n",
    "}"
   ]
  },
  {
   "cell_type": "code",
   "execution_count": null,
   "id": "57f7930d-bc26-4519-811f-91c86c7f0125",
   "metadata": {},
   "outputs": [],
   "source": [
    "fit_models = {}\n",
    "\n",
    "for algo, pipeline in pipeline.items():\n",
    "    model = pipeline.fit(X_train, y_train)\n",
    "    fit_models[algo] = model"
   ]
  },
  {
   "cell_type": "code",
   "execution_count": null,
   "id": "0127b0fb-54c6-453d-846a-bc82713cdca5",
   "metadata": {},
   "outputs": [],
   "source": [
    "fit_models"
   ]
  },
  {
   "cell_type": "code",
   "execution_count": null,
   "id": "9a70b1e6-fabc-4088-a9d6-720cbe73f40d",
   "metadata": {},
   "outputs": [],
   "source": [
    "fit_models['rc'].predict(X_test)"
   ]
  },
  {
   "cell_type": "markdown",
   "id": "38a5b89c-049c-4ef8-bde9-35bc167433e7",
   "metadata": {},
   "source": [
    "## 3.3 Evaluate and Serialize Model"
   ]
  },
  {
   "cell_type": "code",
   "execution_count": null,
   "id": "577103d0-8d8e-482b-9a43-248174982da1",
   "metadata": {},
   "outputs": [],
   "source": [
    "for algo, model in fit_models.items():\n",
    "    yhat = model.predict(X_test)\n",
    "    print(algo,\n",
    "         accuracy_score(y_test.values, yhat),\n",
    "         precision_score(y_test.values, yhat, average= \"binary\", pos_label= \"up\"),\n",
    "         recall_score(y_test.values, yhat, average= \"binary\", pos_label= \"up\"))"
   ]
  },
  {
   "cell_type": "code",
   "execution_count": null,
   "id": "c0bd2bac-d7b5-4972-b5fa-1aa4c9a04b01",
   "metadata": {},
   "outputs": [],
   "source": [
    "yhat = fit_models['rf'].predict(X_test)"
   ]
  },
  {
   "cell_type": "code",
   "execution_count": null,
   "id": "73ec1e4d-4eb2-4ad1-a83d-5e2e67fb9c6c",
   "metadata": {},
   "outputs": [],
   "source": [
    "yhat[ :10]"
   ]
  },
  {
   "cell_type": "code",
   "execution_count": null,
   "id": "c517b813-8a13-495e-bd5c-044c74e446bc",
   "metadata": {},
   "outputs": [],
   "source": [
    "with open('bicep-curl.pkl', 'wb') as f:\n",
    "    pickle.dump(fit_models['rf'], f)"
   ]
  },
  {
   "cell_type": "markdown",
   "id": "68529c51-390b-4c28-8a55-a62fb4db6374",
   "metadata": {
    "jp-MarkdownHeadingCollapsed": true,
    "tags": []
   },
   "source": [
    "# 4. Make Detections with Model"
   ]
  },
  {
   "cell_type": "code",
   "execution_count": null,
   "id": "2eaba365-321e-4f0c-88ab-ddf35f5392bd",
   "metadata": {},
   "outputs": [],
   "source": [
    "with open('bicep-curl.pkl', 'rb') as f:\n",
    "    pickle.load(f)"
   ]
  },
  {
   "cell_type": "code",
   "execution_count": null,
   "id": "15b2c220-c2d0-4294-abe7-6d3dd6600c88",
   "metadata": {},
   "outputs": [],
   "source": [
    "# X = pd.DataFrame([row], columns= landmarks[1:])"
   ]
  },
  {
   "cell_type": "code",
   "execution_count": null,
   "id": "df540e35-e3df-4b13-bf72-c74f11002dc5",
   "metadata": {},
   "outputs": [],
   "source": [
    "cap = cv2.VideoCapture(0)\n",
    "counter = 0\n",
    "current_stage = ''\n",
    "\n",
    "# Initiate holistic model\n",
    "with mp_pose.Pose(min_detection_confidence= 0.5, min_tracking_confidence= 0.5) as pose:\n",
    "    \n",
    "    while cap.isOpened():\n",
    "        ret, image = cap.read()\n",
    "        \n",
    "        # Recolor Feed\n",
    "        image = cv2.cvtColor(image, cv2.COLOR_BGR2RGB)\n",
    "        image.flags.writeable = False\n",
    "        \n",
    "        # Make Detections\n",
    "        results = pose.process(image)\n",
    "        \n",
    "        # Recolor image back to BGR for rendering\n",
    "        image.flags.writeable = True\n",
    "        image = cv2.cvtColor(image, cv2.COLOR_RGB2BGR)\n",
    "        \n",
    "        mp_drawing.draw_landmarks(image, results.pose_landmarks, mp_pose.POSE_CONNECTIONS,\n",
    "                                  mp_drawing.DrawingSpec(color= (245, 117, 66),\n",
    "                                                         thickness= 2,\n",
    "                                                         circle_radius= 4),\n",
    "                                  mp_drawing.DrawingSpec(color= (245, 66, 230),\n",
    "                                                         thickness= 2,\n",
    "                                                         circle_radius= 2)\n",
    "                                 )\n",
    "                \n",
    "        try:\n",
    "            row = np.array([[rex.x, res.y, rex.z, res.visibility] for res in results.pose_landmarks.landmark])\n",
    "            X = pd.DataFrame([row], columns= landmarks[1:])\n",
    "            body_language_class = model.predict(X)[0]\n",
    "            body_language_prob = model.predict_proba(X)[0]\n",
    "            # print(body_language_class, body_language_prob)\n",
    "            \n",
    "        \n",
    "            if body_language_class == 'down' and body_language_prob[body_language_prob.argmax()] >= .7:\n",
    "                current_stage = 'down'\n",
    "            elif current_stage = 'down' and body_language_class == 'up' and body_language_prob[body_language_prob.argmax()] >= .7:\n",
    "                current_stage = 'up'\n",
    "                counter += 1\n",
    "                # print(current_stage)\n",
    "\n",
    "            # Get status box\n",
    "            cv2.rectangle(image, (0,0), (250,60), (245,117,16), -1)\n",
    "\n",
    "            # Display Class\n",
    "            cv2.putText(image, \n",
    "                        'CLASS',\n",
    "                        (0,0),\n",
    "                        cv2.FONT_HERSHEY_SIMPLEX,\n",
    "                        0.5,\n",
    "                        (0,0,0),\n",
    "                        1,\n",
    "                        cv2.LINE_AA\n",
    "                       )\n",
    "            cv2.putText(image, \n",
    "                        body_language_class(' ')[0],\n",
    "                        (90,40),\n",
    "                        cv2.FONT_HERSHEY_SIMPLEX,\n",
    "                        1,\n",
    "                        (255,255,255),\n",
    "                        2,\n",
    "                        cv2.LINE_AA\n",
    "                       )\n",
    "            \n",
    "            # Display Propability\n",
    "            cv2.putText(image, \n",
    "                        'PROB',\n",
    "                        (15,12),\n",
    "                        cv2.FONT_HERSHEY_SIMPLEX,\n",
    "                        0.5,\n",
    "                        (0,0,0),\n",
    "                        1,\n",
    "                        cv2.LINE_AA\n",
    "                       )\n",
    "            cv2.putText(image, \n",
    "                        str(round(body_language_prob[np.argmax(body_language_prob)], 2)),\n",
    "                        (10,40),\n",
    "                        cv2.FONT_HERSHEY_SIMPLEX,\n",
    "                        1,\n",
    "                        (255,255,255),\n",
    "                        2,\n",
    "                        cv2.LINE_AA\n",
    "                       )\n",
    "            \n",
    "            # Display Count\n",
    "            cv2.putText(image, \n",
    "                        'COUNT',\n",
    "                        (180,12),\n",
    "                        cv2.FONT_HERSHEY_SIMPLEX,\n",
    "                        0.5,\n",
    "                        (0,0,0),\n",
    "                        1,\n",
    "                        cv2.LINE_AA\n",
    "                       )\n",
    "            cv2.putText(image, \n",
    "                        str(counter),\n",
    "                        (175,40),\n",
    "                        cv2.FONT_HERSHEY_SIMPLEX,\n",
    "                        1,\n",
    "                        (255,255,255),\n",
    "                        2,\n",
    "                        cv2.LINE_AA\n",
    "                       )\n",
    "            \n",
    "            \n",
    "        except Exception as e:\n",
    "            pass\n",
    "\n",
    "\n",
    "        cv2.imshow('Bicep Prediction', image)\n",
    "\n",
    "        if cv2.waitKey(10) & 0xFF == ord('q'):\n",
    "            break\n",
    "            \n",
    "cap.release()\n",
    "cv2.destroyAllWindows()"
   ]
  },
  {
   "cell_type": "code",
   "execution_count": null,
   "id": "49e68c33-b9fe-4229-b371-14364521a671",
   "metadata": {},
   "outputs": [],
   "source": []
  },
  {
   "cell_type": "code",
   "execution_count": null,
   "id": "87389fe9-ddb6-4271-9f6e-cf9f59fb2525",
   "metadata": {},
   "outputs": [],
   "source": []
  }
 ],
 "metadata": {
  "kernelspec": {
   "display_name": "Python 3",
   "language": "python",
   "name": "python3"
  },
  "language_info": {
   "codemirror_mode": {
    "name": "ipython",
    "version": 3
   },
   "file_extension": ".py",
   "mimetype": "text/x-python",
   "name": "python",
   "nbconvert_exporter": "python",
   "pygments_lexer": "ipython3",
   "version": "3.9.0"
  }
 },
 "nbformat": 4,
 "nbformat_minor": 5
}
